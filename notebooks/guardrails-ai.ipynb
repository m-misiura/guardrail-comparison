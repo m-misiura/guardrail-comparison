{
 "cells": [
  {
   "cell_type": "code",
   "execution_count": null,
   "id": "aac5bc65-3c10-4775-959f-a48320f2011b",
   "metadata": {},
   "outputs": [],
   "source": [
    "# %% import guardrails from hub\n",
    "\n",
    "# !guardrails hub install hub://guardrails/detect_pii # pii detector\n",
    "# !guardrails hub install hub://guardrails/toxic_language # toxic language detector\n",
    "# !guardrails hub install hub://guardrails/competitor_check # competitor check"
   ]
  },
  {
   "cell_type": "code",
   "execution_count": null,
   "id": "3dd44466-9405-4496-bd53-e4c4edbadb46",
   "metadata": {},
   "outputs": [
    {
     "name": "stderr",
     "output_type": "stream",
     "text": [
      "/Users/mmisiura/Library/Caches/pypoetry/virtualenvs/guardrail-comparison-Qww5GZ7l-py3.10/lib/python3.10/site-packages/tqdm/auto.py:21: TqdmWarning: IProgress not found. Please update jupyter and ipywidgets. See https://ipywidgets.readthedocs.io/en/stable/user_install.html\n",
      "  from .autonotebook import tqdm as notebook_tqdm\n"
     ]
    }
   ],
   "source": [
    "# %% module imports\n",
    "\n",
    "from guardrails import Guard, OnFailAction\n",
    "from guardrails.hub import DetectPII, ToxicLanguage, CompetitorCheck"
   ]
  },
  {
   "cell_type": "code",
   "execution_count": null,
   "id": "bda4fcc1-9ebc-4fa5-98b1-7de0b9141fe9",
   "metadata": {},
   "outputs": [],
   "source": [
    "# %% define the email pattern and a pii guard\n",
    "\n",
    "guard = Guard().use(DetectPII, [\"EMAIL_ADDRESS\"], on_fail=OnFailAction.EXCEPTION)"
   ]
  },
  {
   "cell_type": "code",
   "execution_count": null,
   "id": "f57f6da4-3445-4336-9f70-1d20690f3cd3",
   "metadata": {},
   "outputs": [
    {
     "name": "stdout",
     "output_type": "stream",
     "text": [
      "Validation failed for field with errors: The following text in your response contains PII:\n",
      "My email is xxx@domain.com\n"
     ]
    }
   ],
   "source": [
    "# %% test with a string containing an email\n",
    "\n",
    "input_text = \"My email is xxx@domain.com\"\n",
    "\n",
    "try:\n",
    "    guard.validate(input_text)\n",
    "except Exception as e:\n",
    "    print(e)"
   ]
  },
  {
   "cell_type": "code",
   "execution_count": null,
   "id": "ac60fffc-ff33-4957-b0c8-ea2d56a14cd3",
   "metadata": {},
   "outputs": [
    {
     "name": "stderr",
     "output_type": "stream",
     "text": [
      "ERROR:root:503\n"
     ]
    },
    {
     "name": "stdout",
     "output_type": "stream",
     "text": [
      "Expecting value: line 1 column 1 (char 0)\n"
     ]
    }
   ],
   "source": [
    "# %%  test with a string containing an email and a profanity\n",
    "\n",
    "input_text = \"My email is xxx@domain.com and I hate you since you work for Comapany Z\"\n",
    "\n",
    "guards = Guard().use_many(\n",
    "    CompetitorCheck([\"Company Z\"], on_fail=OnFailAction.EXCEPTION),\n",
    "    ToxicLanguage(\n",
    "        threshold=0.5, validation_method=\"sentence\", on_fail=OnFailAction.EXCEPTION\n",
    "    ),\n",
    "    DetectPII([\"EMAIL_ADDRESS\"], on_fail=OnFailAction.EXCEPTION),\n",
    ")\n",
    "\n",
    "try:\n",
    "    guards.validate(input_text)\n",
    "except Exception as e:\n",
    "    print(e)"
   ]
  },
  {
   "cell_type": "code",
   "execution_count": null,
   "id": "3ff18fa1-5f5a-46cd-9c21-3c04c745e520",
   "metadata": {},
   "outputs": [
    {
     "name": "stderr",
     "output_type": "stream",
     "text": [
      "WARNING:presidio-analyzer:Recognizer not added to registry because language is not supported by registry - CreditCardRecognizer supported languages: es, registry supported languages: en\n",
      "WARNING:presidio-analyzer:Recognizer not added to registry because language is not supported by registry - CreditCardRecognizer supported languages: it, registry supported languages: en\n",
      "WARNING:presidio-analyzer:Recognizer not added to registry because language is not supported by registry - CreditCardRecognizer supported languages: pl, registry supported languages: en\n",
      "WARNING:presidio-analyzer:Recognizer not added to registry because language is not supported by registry - EsNifRecognizer supported languages: es, registry supported languages: en\n",
      "WARNING:presidio-analyzer:Recognizer not added to registry because language is not supported by registry - EsNieRecognizer supported languages: es, registry supported languages: en\n",
      "WARNING:presidio-analyzer:Recognizer not added to registry because language is not supported by registry - ItDriverLicenseRecognizer supported languages: it, registry supported languages: en\n",
      "WARNING:presidio-analyzer:Recognizer not added to registry because language is not supported by registry - ItFiscalCodeRecognizer supported languages: it, registry supported languages: en\n",
      "WARNING:presidio-analyzer:Recognizer not added to registry because language is not supported by registry - ItVatCodeRecognizer supported languages: it, registry supported languages: en\n",
      "WARNING:presidio-analyzer:Recognizer not added to registry because language is not supported by registry - ItIdentityCardRecognizer supported languages: it, registry supported languages: en\n",
      "WARNING:presidio-analyzer:Recognizer not added to registry because language is not supported by registry - ItPassportRecognizer supported languages: it, registry supported languages: en\n",
      "WARNING:presidio-analyzer:Recognizer not added to registry because language is not supported by registry - PlPeselRecognizer supported languages: pl, registry supported languages: en\n"
     ]
    },
    {
     "name": "stdout",
     "output_type": "stream",
     "text": [
      "Validation failed for field with errors: The following text in your response contains PII:\n",
      "My email is xxx@domain.com and I hate you since you work for Comapany Z\n"
     ]
    }
   ],
   "source": [
    "# %%  test with a string containing an email and a profanity\n",
    "\n",
    "input_text = \"My email is xxx@domain.com and I hate you since you work for Comapany Z\"\n",
    "\n",
    "guards = Guard().use_many(\n",
    "    CompetitorCheck([\"Company Z\"], on_fail=OnFailAction.EXCEPTION),\n",
    "    ToxicLanguage(\n",
    "        threshold=0.5, validation_method=\"sentence\", on_fail=OnFailAction.EXCEPTION\n",
    "    ),\n",
    "    DetectPII([\"EMAIL_ADDRESS\"], on_fail=OnFailAction.EXCEPTION),\n",
    ")\n",
    "\n",
    "try:\n",
    "    guards.validate(input_text)\n",
    "except Exception as e:\n",
    "    print(e)"
   ]
  },
  {
   "cell_type": "code",
   "execution_count": null,
   "id": "3ac82c57-f6ec-479b-adc6-58bdd8c06c76",
   "metadata": {},
   "outputs": [
    {
     "name": "stderr",
     "output_type": "stream",
     "text": [
      "WARNING:presidio-analyzer:Recognizer not added to registry because language is not supported by registry - CreditCardRecognizer supported languages: es, registry supported languages: en\n",
      "WARNING:presidio-analyzer:Recognizer not added to registry because language is not supported by registry - CreditCardRecognizer supported languages: it, registry supported languages: en\n",
      "WARNING:presidio-analyzer:Recognizer not added to registry because language is not supported by registry - CreditCardRecognizer supported languages: pl, registry supported languages: en\n",
      "WARNING:presidio-analyzer:Recognizer not added to registry because language is not supported by registry - EsNifRecognizer supported languages: es, registry supported languages: en\n",
      "WARNING:presidio-analyzer:Recognizer not added to registry because language is not supported by registry - EsNieRecognizer supported languages: es, registry supported languages: en\n",
      "WARNING:presidio-analyzer:Recognizer not added to registry because language is not supported by registry - ItDriverLicenseRecognizer supported languages: it, registry supported languages: en\n",
      "WARNING:presidio-analyzer:Recognizer not added to registry because language is not supported by registry - ItFiscalCodeRecognizer supported languages: it, registry supported languages: en\n",
      "WARNING:presidio-analyzer:Recognizer not added to registry because language is not supported by registry - ItVatCodeRecognizer supported languages: it, registry supported languages: en\n",
      "WARNING:presidio-analyzer:Recognizer not added to registry because language is not supported by registry - ItIdentityCardRecognizer supported languages: it, registry supported languages: en\n",
      "WARNING:presidio-analyzer:Recognizer not added to registry because language is not supported by registry - ItPassportRecognizer supported languages: it, registry supported languages: en\n",
      "WARNING:presidio-analyzer:Recognizer not added to registry because language is not supported by registry - PlPeselRecognizer supported languages: pl, registry supported languages: en\n"
     ]
    },
    {
     "name": "stdout",
     "output_type": "stream",
     "text": [
      "Validation failed for field with errors: The following text in your response contains PII:\n",
      "My email is xxx@domain.com and I hate you since you work for Comapany Z\n"
     ]
    }
   ],
   "source": [
    "# %%  test with a string containing an email and a profanity\n",
    "\n",
    "input_text = \"My email is xxx@domain.com and I hate you since you work for Comapany Z\"\n",
    "\n",
    "guards = Guard().use_many(\n",
    "    CompetitorCheck([\"Company Z\"], on_fail=OnFailAction.EXCEPTION),\n",
    "    ToxicLanguage(\n",
    "        threshold=0.5, validation_method=\"sentence\", on_fail=OnFailAction.EXCEPTION\n",
    "    ),\n",
    "    DetectPII([\"EMAIL_ADDRESS\"], on_fail=OnFailAction.EXCEPTION),\n",
    ")\n",
    "\n",
    "try:\n",
    "    guards.validate(input_text)\n",
    "except Exception as e:\n",
    "    print(e)"
   ]
  }
 ],
 "metadata": {
  "language_info": {
   "codemirror_mode": {
    "name": "ipython",
    "version": 3
   },
   "file_extension": ".py",
   "mimetype": "text/x-python",
   "name": "python",
   "nbconvert_exporter": "python",
   "pygments_lexer": "ipython3",
   "version": 3
  }
 },
 "nbformat": 4,
 "nbformat_minor": 2
}
